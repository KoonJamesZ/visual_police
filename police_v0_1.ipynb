{
  "cells": [
    {
      "cell_type": "markdown",
      "metadata": {
        "id": "f2fFhXzEdGNG"
      },
      "source": [
        "#Install Package"
      ]
    },
    {
      "cell_type": "code",
      "execution_count": null,
      "metadata": {
        "colab": {
          "base_uri": "https://localhost:8080/"
        },
        "id": "sb4UBIR5dEMA",
        "outputId": "77486607-52cd-4b48-be28-8822fcb097cb"
      },
      "outputs": [],
      "source": [
        "# !pip install openai --quiet"
      ]
    },
    {
      "cell_type": "code",
      "execution_count": null,
      "metadata": {
        "colab": {
          "base_uri": "https://localhost:8080/"
        },
        "id": "9ZCmWjcxu0Qb",
        "outputId": "c173f57c-8641-436b-a58d-82be0cd06c3d"
      },
      "outputs": [],
      "source": [
        "# !pip install langchain"
      ]
    },
    {
      "cell_type": "code",
      "execution_count": null,
      "metadata": {
        "colab": {
          "base_uri": "https://localhost:8080/"
        },
        "id": "AHJFWVYwSal4",
        "outputId": "58c897ac-6da5-4075-f046-2063c67c9db4"
      },
      "outputs": [],
      "source": [
        "# !pip install langchain_openai"
      ]
    },
    {
      "cell_type": "code",
      "execution_count": null,
      "metadata": {},
      "outputs": [],
      "source": [
        "# !pip install azure-cognitiveservices-speech pydub "
      ]
    },
    {
      "cell_type": "markdown",
      "metadata": {
        "id": "mBWR94eV6AcK"
      },
      "source": [
        "# Set API Key"
      ]
    },
    {
      "cell_type": "code",
      "execution_count": null,
      "metadata": {
        "colab": {
          "base_uri": "https://localhost:8080/"
        },
        "id": "tdtvNrEWu8W3",
        "outputId": "ed88fba9-bf85-4df5-cfc9-ca9978c1606a"
      },
      "outputs": [],
      "source": [
        "from langchain_openai import ChatOpenAI\n",
        "from openai import OpenAI\n",
        "\n",
        "import getpass\n",
        "import os\n",
        "\n",
        "# os.environ[\"OPENAI_API_KEY\"] = getpass.getpass()\n",
        "os.environ[\"OPENAI_API_KEY\"] = \"sk-proj-9XxUFpy63A4GwHsxaK1PT3BlbkFJmPCuVmTlFJ3bNJCgiOp2\"\n",
        "\n",
        "client = OpenAI()"
      ]
    },
    {
      "cell_type": "markdown",
      "metadata": {
        "id": "WCa7Y0VZ29kf"
      },
      "source": [
        "# Propt"
      ]
    },
    {
      "cell_type": "code",
      "execution_count": null,
      "metadata": {
        "id": "GwLj5D0229OF"
      },
      "outputs": [],
      "source": [
        "information_extrac_prompt = \"\"\" Your job is to extract important information from USER text input\n",
        "                                The important information you need to pull is:\n",
        "\n",
        "                                INFORMATION_JSON:\n",
        "                                {INFROMATION_JSON}\n",
        "\n",
        "                                This is the previous question you asked:\n",
        "                                {QUESTION}\n",
        "\n",
        "                                USER: {USER_INPUT_DATA}\n",
        "\n",
        "                                If in the USER message is available in INFORMATION.\n",
        "                                Please reply this information in json format.\n",
        "\n",
        "                                Do not delete existing data. Please return the original data as well. But if the information is on the same topic Please combine the information.\n",
        "\n",
        "                                Please write information with USET input language.\"\"\""
      ]
    },
    {
      "cell_type": "code",
      "execution_count": null,
      "metadata": {
        "id": "FJPwGwCG3MB9"
      },
      "outputs": [],
      "source": [
        "# conversatoin_prompt = \"\"\" You are an investigative expert. Your job is to try and answer questions.\n",
        "#                           with the user in order to collect information that is useful in further investigating the case Complete and complete\n",
        "\n",
        "#                           INFORMATION_JSON:\n",
        "#                           {INFORMATION_JSON}\n",
        "\n",
        "#                           This is the previous question you asked:\n",
        "#                           {QUESTION}\n",
        "\n",
        "#                           Don't ask the same question again.\n",
        "\n",
        "#                           If some any part has INFORMATION_JSON but is not complete. Please ask questoin more for gave the information from user, but if the INFORMATION_JSON is complete Please ask more the new next question.\n",
        "#                           Try to ask one question at a time, and reply with a sympathetic message.\n",
        "\n",
        "#                           If there is no information at all Start by asking your name first.\n",
        "\n",
        "#                           Try asking in a new way, don't repeat the same pattern like this previous question -> {QUESTION}.\n",
        "\n",
        "#                           Remember asking as if He was talking to a police officer. who is really a female person.\n",
        "\n",
        "#                           Response with Thai language.\n",
        "#                                     \"\"\""
      ]
    },
    {
      "cell_type": "code",
      "execution_count": null,
      "metadata": {},
      "outputs": [],
      "source": [
        "conversatoin_prompt = \"\"\" You are an investigative expert. Your job is to try and answer questions.\n",
        "                          with the user in order to collect information that is useful in further investigating complete.\n",
        "\n",
        "                          INFORMATION_JSON:\n",
        "                          {INFORMATION_JSON}\n",
        "\n",
        "                          This is the previous question you asked:\n",
        "                          {QUESTION}\n",
        "\n",
        "                          Don't ask the same question again.\n",
        "\n",
        "                          If some any part has INFORMATION_JSON but is not complete. Please ask questoin more for gave the information from user, but if the INFORMATION_JSON is complete Please ask more the new next question.\n",
        "                          \n",
        "                          Try to ask one question at a time.\n",
        "\n",
        "                          If there is no information at all Start by asking your name first.\n",
        "\n",
        "                          Remember asking as if He was talking to a police officer. who is really a female person.\n",
        "                          \n",
        "                          Please note the new question and avoid repeating the format of the previous question, which was -> {QUESTION}.\n",
        "\n",
        "                          \n",
        "\n",
        "                          \n",
        "\n",
        "                          Response with Thai language.\n",
        "                                    \"\"\""
      ]
    },
    {
      "cell_type": "code",
      "execution_count": null,
      "metadata": {
        "id": "gQ7enNDhKk7e"
      },
      "outputs": [],
      "source": [
        "# Please only show empathy or understanding or suggestion, and questions. Don't talk about anything else or say anything else."
      ]
    },
    {
      "cell_type": "code",
      "execution_count": null,
      "metadata": {
        "id": "chv916zm84ZQ"
      },
      "outputs": [],
      "source": [
        "data_from_user = {\n",
        "                  \"ชื่อ\" : \"\",\n",
        "                  \"เหตุการณ์ที่เกิดขึ้น\": \"\",\n",
        "                  \"ชื่อคนร้าย\": \"\",\n",
        "                  \"วัน/เวลาที่เกิดเหตุ\": \"\",\n",
        "                  \"ประเภททรัพย์สินที่เสียไป\": \"\",\n",
        "                  \"มูลค่าความเสียหายที่เกิดขึ้น\": \"\",\n",
        "                  \"หมายเลขบัญชีของคนร้าย\": \"\",\n",
        "                  \"ช่องทางที่คนร้ายติดต่อเข้ามา\": \"\",\n",
        "                  \"คนร้ายติดต่อมาด้วยข้อความแบบใหน/ตัวอย่าง\": \"\",\n",
        "                  \"มีช่องทางในการติดต่อคนร้ายใหม\": \"\",\n",
        "}"
      ]
    },
    {
      "cell_type": "markdown",
      "metadata": {
        "id": "ln9CiCHkiJGb"
      },
      "source": [
        "# Information Extraction"
      ]
    },
    {
      "cell_type": "code",
      "execution_count": null,
      "metadata": {
        "id": "L--kCpHMZjTl"
      },
      "outputs": [],
      "source": [
        "from typing import Any, Dict\n",
        "import ast\n",
        "import json\n",
        "\n",
        "def information_extract(user_input: str, question: str, data_from_user: Dict )-> Dict:\n",
        "  completion = client.chat.completions.create(\n",
        "    model=\"gpt-4o\",\n",
        "    messages=[\n",
        "      {\"role\": \"user\", \"content\": information_extrac_prompt.replace(\"{USER_INPUT_DATA}\",user_input).replace('{QUESTION}',question).replace('{INFROMATION_JSON}',str(data_from_user)) }\n",
        "    ],\n",
        "    temperature=0,\n",
        "    response_format={ \"type\": \"json_object\" }\n",
        "  )\n",
        "\n",
        "  result_dict = ast.literal_eval(completion.choices[0].message.content)\n",
        "  return result_dict\n"
      ]
    },
    {
      "cell_type": "markdown",
      "metadata": {
        "id": "MsvL7kxRiMpm"
      },
      "source": [
        "# Queston Generation\n"
      ]
    },
    {
      "cell_type": "code",
      "execution_count": null,
      "metadata": {
        "id": "DsIioUAZdcvj"
      },
      "outputs": [],
      "source": [
        "def generate_question(question: str) -> str:\n",
        "  completion = client.chat.completions.create(\n",
        "    model=\"gpt-4o\",\n",
        "    messages=[\n",
        "      {\"role\": \"user\", \"content\": conversatoin_prompt.replace('{INFORMATION_JSON}',str(data_from_user)).replace('{QUESTION}',question)}],\n",
        "    temperature=0.7,\n",
        "  )\n",
        "  return completion.choices[0].message.content"
      ]
    },
    {
      "cell_type": "markdown",
      "metadata": {
        "id": "tMdWBZIgYN9r"
      },
      "source": [
        "# Check information in Json\n"
      ]
    },
    {
      "cell_type": "code",
      "execution_count": null,
      "metadata": {
        "id": "C4lLD6WYYR20"
      },
      "outputs": [],
      "source": [
        "def check_information(data_dict: Dict) -> bool:\n",
        "  check = True\n",
        "  for valuse in data_dict.values():\n",
        "    if valuse == \"\" :\n",
        "      check = False\n",
        "  return check"
      ]
    },
    {
      "cell_type": "markdown",
      "metadata": {},
      "source": [
        "# Text to Speech by Azure"
      ]
    },
    {
      "cell_type": "code",
      "execution_count": null,
      "metadata": {},
      "outputs": [],
      "source": [
        "import os\n",
        "import azure.cognitiveservices.speech as speechsdk\n",
        "\n",
        "os.environ['SPEECH_KEY'] = \"d0289464af034bdca915c7f2af4bac75\"\n",
        "os.environ['SPEECH_REGION'] = \"eastus\"\n",
        "\n",
        "# This example requires environment variables named \"SPEECH_KEY\" and \"SPEECH_REGION\"\n",
        "text2speech_config = speechsdk.SpeechConfig(subscription=os.environ.get('SPEECH_KEY'), region=os.environ.get('SPEECH_REGION'))\n",
        "text2speech_audio_config = speechsdk.audio.AudioOutputConfig(use_default_speaker=True)\n",
        "\n",
        "# The neural multilingual voice can speak different languages based on the input text.\n",
        "text2speech_config.speech_synthesis_voice_name = 'th-TH-PremwadeeNeural'\n",
        "\n",
        "speech_synthesizer = speechsdk.SpeechSynthesizer(speech_config=text2speech_config, audio_config=text2speech_audio_config)\n",
        "\n",
        "# Function to convert text to speech with slow rate for Thai language\n",
        "def text_to_speech_azure(text, rate=\"-15%\"):\n",
        "    ssml_text = f\"\"\"\n",
        "    <speak version=\"1.0\" xmlns=\"http://www.w3.org/2001/10/synthesis\" xml:lang=\"th-TH\">\n",
        "        <voice name=\"{text2speech_config.speech_synthesis_voice_name}\">\n",
        "            <prosody rate=\"{rate}\">\n",
        "                {text}\n",
        "            </prosody>\n",
        "        </voice>\n",
        "    </speak>\n",
        "    \"\"\"\n",
        "\n",
        "    speech_synthesis_result = speech_synthesizer.speak_ssml_async(ssml_text).get()\n",
        "\n",
        "    if speech_synthesis_result.reason == speechsdk.ResultReason.SynthesizingAudioCompleted:\n",
        "        print(f\"Speech synthesized for text [{text}] with rate [{rate}]\")\n",
        "    elif speech_synthesis_result.reason == speechsdk.ResultReason.Canceled:\n",
        "        cancellation_details = speech_synthesis_result.cancellation_details\n",
        "        print(f\"Speech synthesis canceled: {cancellation_details.reason}\")\n",
        "        if cancellation_details.reason == speechsdk.CancellationReason.Error:\n",
        "            if cancellation_details.error_details:\n",
        "                print(f\"Error details: {cancellation_details.error_details}\")\n",
        "                print(\"Did you set the speech resource key and region values?\")\n",
        "\n",
        "text_to_speech_azure(\"สวัสดีค่ะ ดิฉันเป็นเจ้าหน้าที่ตำรวจที่กำลังดูแลคดีนี้อยู่ ขอทราบชื่อของคุณเพื่อที่เราจะได้เริ่มต้นทำการสอบสวนได้ค่ะ\")"
      ]
    },
    {
      "cell_type": "markdown",
      "metadata": {},
      "source": [
        "# Text to Speech by Botnoi"
      ]
    },
    {
      "cell_type": "code",
      "execution_count": null,
      "metadata": {},
      "outputs": [],
      "source": [
        "import requests\n",
        "from pydub import AudioSegment\n",
        "import json\n",
        "import simpleaudio as sa\n",
        "\n",
        "def text_to_speech_botnoi(text):\n",
        "    #requests botnoi API\n",
        "    url = \"https://api-voice.botnoi.ai/openapi/v1/generate_audio\"\n",
        "    payload = {\"text\":text, \"speaker\":\"14\", \"volume\":1, \"speed\":1, \"type_media\":\"m4a\", \"save_file\": \"true\", \"language\": \"th\"}\n",
        "    headers = {\n",
        "    'Botnoi-Token': 'c24wZ3FDNW1pUFZXWmlaeHBRcFhNcnFrVzlBMzU2MTg5NA==',\n",
        "    'Content-Type': 'application/json'\n",
        "    }\n",
        "\n",
        "    response = requests.request(\"POST\", url, headers=headers, json=payload)\n",
        "\n",
        "    url = response.content\n",
        "    \n",
        "    url_str = url.decode('utf-8')\n",
        "\n",
        "    # Parse the JSON string\n",
        "    data = json.loads(url_str)\n",
        "    print(data)\n",
        "    # Extract the audio_url\n",
        "    audio_url = data['audio_url']\n",
        "    print(audio_url)\n",
        "    # Download the file\n",
        "    response = requests.get(audio_url)\n",
        "    m4a_filename = 'audio_file.m4a'\n",
        "    with open(m4a_filename, 'wb') as f:\n",
        "        f.write(response.content)\n",
        "\n",
        "    # Convert the file to WAV format\n",
        "    wav_filename = 'audio_file.wav'\n",
        "    audio = AudioSegment.from_file(m4a_filename, format='m4a')\n",
        "    audio.export(wav_filename, format='wav')\n",
        "\n",
        "    wave_obj = sa.WaveObject.from_wave_file(wav_filename)\n",
        "    # Play the WAV file\n",
        "    play_obj = wave_obj.play()\n",
        "    play_obj.wait_done()  # Wait until sound has finished playing\n",
        "\n"
      ]
    },
    {
      "cell_type": "markdown",
      "metadata": {},
      "source": [
        "# Speech To Text by Azure"
      ]
    },
    {
      "cell_type": "code",
      "execution_count": null,
      "metadata": {},
      "outputs": [],
      "source": [
        "# This example requires environment variables named \"SPEECH_KEY\" and \"SPEECH_REGION\"\n",
        "speech2text_config = speechsdk.SpeechConfig(subscription=os.environ.get('SPEECH_KEY'), region=os.environ.get('SPEECH_REGION'))\n",
        "speech2text_config.speech_recognition_language=\"th-TH\"\n",
        "\n",
        "speech2text_audio_config = speechsdk.audio.AudioConfig(use_default_microphone=True)\n",
        "speech_recognizer = speechsdk.SpeechRecognizer(speech_config=speech2text_config, audio_config=speech2text_audio_config)\n",
        "\n",
        "def speech_to_text():\n",
        "    print(\"Speak into your microphone.\")\n",
        "    speech_recognition_result = speech_recognizer.recognize_once_async().get()\n",
        "\n",
        "    if speech_recognition_result.reason == speechsdk.ResultReason.RecognizedSpeech:\n",
        "        print(\"Recognized: {}\".format(speech_recognition_result.text))\n",
        "        return speech_recognition_result.text\n",
        "    elif speech_recognition_result.reason == speechsdk.ResultReason.NoMatch:\n",
        "        print(\"No speech could be recognized: {}\".format(speech_recognition_result.no_match_details))\n",
        "    elif speech_recognition_result.reason == speechsdk.ResultReason.Canceled:\n",
        "        cancellation_details = speech_recognition_result.cancellation_details\n",
        "        print(\"Speech Recognition canceled: {}\".format(cancellation_details.reason))\n",
        "        if cancellation_details.reason == speechsdk.CancellationReason.Error:\n",
        "            print(\"Error details: {}\".format(cancellation_details.error_details))\n",
        "            print(\"Did you set the speech resource key and region values?\")\n"
      ]
    },
    {
      "cell_type": "markdown",
      "metadata": {
        "id": "iYH3j689YShE"
      },
      "source": [
        "# Combine all of this together."
      ]
    },
    {
      "cell_type": "code",
      "execution_count": null,
      "metadata": {
        "id": "AzeNretJdcs4"
      },
      "outputs": [],
      "source": [
        "from pprint import pprint\n",
        "\n",
        "question = \"\"\n",
        "\n",
        "while True:\n",
        "  question = generate_question(question)\n",
        "  print(question)\n",
        "  text_to_speech_azure(question)\n",
        "  # text_to_speech_botnoi(question)\n",
        "  user_input = speech_to_text()\n",
        "  # user_input = input()\n",
        "  if user_input == \"q\":\n",
        "    break\n",
        "  data_from_user = information_extract(user_input,question,data_from_user)\n",
        "  print('\\n##################################\\n')\n",
        "  pprint(data_from_user)\n",
        "  print('\\n##################################\\n')\n",
        "  verify = check_information(data_from_user)\n",
        "  if verify:\n",
        "    break"
      ]
    },
    {
      "cell_type": "code",
      "execution_count": null,
      "metadata": {},
      "outputs": [],
      "source": [
        "pprint(data_from_user)"
      ]
    }
  ],
  "metadata": {
    "colab": {
      "collapsed_sections": [
        "f2fFhXzEdGNG",
        "mBWR94eV6AcK"
      ],
      "provenance": []
    },
    "kernelspec": {
      "display_name": "Python 3",
      "name": "python3"
    },
    "language_info": {
      "codemirror_mode": {
        "name": "ipython",
        "version": 3
      },
      "file_extension": ".py",
      "mimetype": "text/x-python",
      "name": "python",
      "nbconvert_exporter": "python",
      "pygments_lexer": "ipython3",
      "version": "3.11.0"
    }
  },
  "nbformat": 4,
  "nbformat_minor": 0
}
